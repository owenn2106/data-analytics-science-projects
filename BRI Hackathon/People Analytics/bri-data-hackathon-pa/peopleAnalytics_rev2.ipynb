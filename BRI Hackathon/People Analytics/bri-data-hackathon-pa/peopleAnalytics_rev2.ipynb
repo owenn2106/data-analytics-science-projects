{
 "cells": [
  {
   "cell_type": "code",
   "execution_count": 1,
   "metadata": {},
   "outputs": [],
   "source": [
    "import numpy as np\n",
    "import pandas as pd\n",
    "import matplotlib.pyplot as plt\n",
    "import seaborn as sns"
   ]
  },
  {
   "cell_type": "code",
   "execution_count": 2,
   "metadata": {},
   "outputs": [
    {
     "name": "stderr",
     "output_type": "stream",
     "text": [
      "/opt/anaconda3/lib/python3.7/site-packages/ipykernel_launcher.py:4: FutureWarning: Passing a negative integer is deprecated in version 1.0 and will not be supported in future version. Instead, use None to not limit the column width.\n",
      "  after removing the cwd from sys.path.\n"
     ]
    }
   ],
   "source": [
    "train_df = pd.read_csv('./train.csv')\n",
    "test_df = pd.read_csv('./test.csv')\n",
    "desc = pd.read_csv('./data_description.csv')\n",
    "pd.set_option('display.max_colwidth', -1)"
   ]
  },
  {
   "cell_type": "code",
   "execution_count": 3,
   "metadata": {},
   "outputs": [
    {
     "name": "stdout",
     "output_type": "stream",
     "text": [
      "<class 'pandas.core.frame.DataFrame'>\n",
      "RangeIndex: 11153 entries, 0 to 11152\n",
      "Data columns (total 22 columns):\n",
      " #   Column                                 Non-Null Count  Dtype  \n",
      "---  ------                                 --------------  -----  \n",
      " 0   job_level                              11153 non-null  object \n",
      " 1   job_duration_in_current_job_level      11153 non-null  float64\n",
      " 2   person_level                           11153 non-null  object \n",
      " 3   job_duration_in_current_person_level   11153 non-null  float64\n",
      " 4   job_duration_in_current_branch         11153 non-null  float64\n",
      " 5   Employee_type                          11153 non-null  object \n",
      " 6   gender                                 11153 non-null  int64  \n",
      " 7   age                                    11153 non-null  int64  \n",
      " 8   marital_status_maried(Y/N)             11153 non-null  object \n",
      " 9   number_of_dependences                  11153 non-null  int64  \n",
      " 10  Education_level                        11153 non-null  object \n",
      " 11  GPA                                    11153 non-null  float64\n",
      " 12  year_graduated                         11153 non-null  int64  \n",
      " 13  job_duration_from_training             11153 non-null  int64  \n",
      " 14  branch_rotation                        11153 non-null  int64  \n",
      " 15  job_rotation                           11153 non-null  int64  \n",
      " 16  assign_of_otherposition                11153 non-null  int64  \n",
      " 17  annual leave                           11153 non-null  int64  \n",
      " 18  sick_leaves                            11153 non-null  int64  \n",
      " 19  Last_achievement_%                     11152 non-null  float64\n",
      " 20  Achievement_above_100%_during3quartal  11152 non-null  float64\n",
      " 21  Best Performance                       11153 non-null  int64  \n",
      "dtypes: float64(6), int64(11), object(5)\n",
      "memory usage: 1.9+ MB\n"
     ]
    }
   ],
   "source": [
    "train_df.info()"
   ]
  },
  {
   "cell_type": "code",
   "execution_count": 4,
   "metadata": {},
   "outputs": [
    {
     "data": {
      "text/html": [
       "<div>\n",
       "<style scoped>\n",
       "    .dataframe tbody tr th:only-of-type {\n",
       "        vertical-align: middle;\n",
       "    }\n",
       "\n",
       "    .dataframe tbody tr th {\n",
       "        vertical-align: top;\n",
       "    }\n",
       "\n",
       "    .dataframe thead th {\n",
       "        text-align: right;\n",
       "    }\n",
       "</style>\n",
       "<table border=\"1\" class=\"dataframe\">\n",
       "  <thead>\n",
       "    <tr style=\"text-align: right;\">\n",
       "      <th></th>\n",
       "      <th>job_level</th>\n",
       "      <th>job_duration_in_current_job_level</th>\n",
       "      <th>person_level</th>\n",
       "      <th>job_duration_in_current_person_level</th>\n",
       "      <th>job_duration_in_current_branch</th>\n",
       "      <th>Employee_type</th>\n",
       "      <th>gender</th>\n",
       "      <th>age</th>\n",
       "      <th>marital_status_maried(Y/N)</th>\n",
       "      <th>number_of_dependences</th>\n",
       "      <th>...</th>\n",
       "      <th>year_graduated</th>\n",
       "      <th>job_duration_from_training</th>\n",
       "      <th>branch_rotation</th>\n",
       "      <th>job_rotation</th>\n",
       "      <th>assign_of_otherposition</th>\n",
       "      <th>annual leave</th>\n",
       "      <th>sick_leaves</th>\n",
       "      <th>Last_achievement_%</th>\n",
       "      <th>Achievement_above_100%_during3quartal</th>\n",
       "      <th>Best Performance</th>\n",
       "    </tr>\n",
       "  </thead>\n",
       "  <tbody>\n",
       "    <tr>\n",
       "      <th>0</th>\n",
       "      <td>JG04</td>\n",
       "      <td>1.352775</td>\n",
       "      <td>PG03</td>\n",
       "      <td>1.352775</td>\n",
       "      <td>1.732051</td>\n",
       "      <td>RM_type_A</td>\n",
       "      <td>2</td>\n",
       "      <td>1985</td>\n",
       "      <td>Y</td>\n",
       "      <td>1</td>\n",
       "      <td>...</td>\n",
       "      <td>2011</td>\n",
       "      <td>4</td>\n",
       "      <td>2</td>\n",
       "      <td>3</td>\n",
       "      <td>2</td>\n",
       "      <td>3</td>\n",
       "      <td>0</td>\n",
       "      <td>46.37</td>\n",
       "      <td>0.0</td>\n",
       "      <td>0</td>\n",
       "    </tr>\n",
       "    <tr>\n",
       "      <th>1</th>\n",
       "      <td>JG04</td>\n",
       "      <td>1.292285</td>\n",
       "      <td>PG03</td>\n",
       "      <td>1.292285</td>\n",
       "      <td>1.039230</td>\n",
       "      <td>RM_type_A</td>\n",
       "      <td>2</td>\n",
       "      <td>1989</td>\n",
       "      <td>Y</td>\n",
       "      <td>0</td>\n",
       "      <td>...</td>\n",
       "      <td>2007</td>\n",
       "      <td>4</td>\n",
       "      <td>4</td>\n",
       "      <td>3</td>\n",
       "      <td>0</td>\n",
       "      <td>0</td>\n",
       "      <td>1</td>\n",
       "      <td>47.68</td>\n",
       "      <td>0.0</td>\n",
       "      <td>0</td>\n",
       "    </tr>\n",
       "    <tr>\n",
       "      <th>2</th>\n",
       "      <td>JG05</td>\n",
       "      <td>2.565151</td>\n",
       "      <td>PG06</td>\n",
       "      <td>2.308679</td>\n",
       "      <td>1.780449</td>\n",
       "      <td>RM_type_C</td>\n",
       "      <td>1</td>\n",
       "      <td>1970</td>\n",
       "      <td>Y</td>\n",
       "      <td>1</td>\n",
       "      <td>...</td>\n",
       "      <td>1989</td>\n",
       "      <td>28</td>\n",
       "      <td>10</td>\n",
       "      <td>9</td>\n",
       "      <td>6</td>\n",
       "      <td>2</td>\n",
       "      <td>1</td>\n",
       "      <td>40.73</td>\n",
       "      <td>0.0</td>\n",
       "      <td>0</td>\n",
       "    </tr>\n",
       "    <tr>\n",
       "      <th>3</th>\n",
       "      <td>JG05</td>\n",
       "      <td>2.828427</td>\n",
       "      <td>PG06</td>\n",
       "      <td>1.000000</td>\n",
       "      <td>1.385641</td>\n",
       "      <td>RM_type_A</td>\n",
       "      <td>2</td>\n",
       "      <td>1967</td>\n",
       "      <td>Y</td>\n",
       "      <td>2</td>\n",
       "      <td>...</td>\n",
       "      <td>1987</td>\n",
       "      <td>29</td>\n",
       "      <td>11</td>\n",
       "      <td>6</td>\n",
       "      <td>0</td>\n",
       "      <td>4</td>\n",
       "      <td>10</td>\n",
       "      <td>47.42</td>\n",
       "      <td>0.0</td>\n",
       "      <td>1</td>\n",
       "    </tr>\n",
       "    <tr>\n",
       "      <th>4</th>\n",
       "      <td>JG05</td>\n",
       "      <td>2.828427</td>\n",
       "      <td>PG06</td>\n",
       "      <td>2.828427</td>\n",
       "      <td>0.707107</td>\n",
       "      <td>RM_type_A</td>\n",
       "      <td>2</td>\n",
       "      <td>1965</td>\n",
       "      <td>Y</td>\n",
       "      <td>3</td>\n",
       "      <td>...</td>\n",
       "      <td>1985</td>\n",
       "      <td>30</td>\n",
       "      <td>9</td>\n",
       "      <td>8</td>\n",
       "      <td>2</td>\n",
       "      <td>3</td>\n",
       "      <td>0</td>\n",
       "      <td>47.18</td>\n",
       "      <td>0.0</td>\n",
       "      <td>0</td>\n",
       "    </tr>\n",
       "  </tbody>\n",
       "</table>\n",
       "<p>5 rows × 22 columns</p>\n",
       "</div>"
      ],
      "text/plain": [
       "  job_level  job_duration_in_current_job_level person_level  \\\n",
       "0  JG04      1.352775                           PG03          \n",
       "1  JG04      1.292285                           PG03          \n",
       "2  JG05      2.565151                           PG06          \n",
       "3  JG05      2.828427                           PG06          \n",
       "4  JG05      2.828427                           PG06          \n",
       "\n",
       "   job_duration_in_current_person_level  job_duration_in_current_branch  \\\n",
       "0  1.352775                              1.732051                         \n",
       "1  1.292285                              1.039230                         \n",
       "2  2.308679                              1.780449                         \n",
       "3  1.000000                              1.385641                         \n",
       "4  2.828427                              0.707107                         \n",
       "\n",
       "  Employee_type  gender   age marital_status_maried(Y/N)  \\\n",
       "0  RM_type_A     2       1985  Y                           \n",
       "1  RM_type_A     2       1989  Y                           \n",
       "2  RM_type_C     1       1970  Y                           \n",
       "3  RM_type_A     2       1967  Y                           \n",
       "4  RM_type_A     2       1965  Y                           \n",
       "\n",
       "   number_of_dependences  ... year_graduated  job_duration_from_training  \\\n",
       "0  1                      ...  2011           4                            \n",
       "1  0                      ...  2007           4                            \n",
       "2  1                      ...  1989           28                           \n",
       "3  2                      ...  1987           29                           \n",
       "4  3                      ...  1985           30                           \n",
       "\n",
       "   branch_rotation  job_rotation  assign_of_otherposition  annual leave  \\\n",
       "0  2                3             2                        3              \n",
       "1  4                3             0                        0              \n",
       "2  10               9             6                        2              \n",
       "3  11               6             0                        4              \n",
       "4  9                8             2                        3              \n",
       "\n",
       "   sick_leaves  Last_achievement_%  Achievement_above_100%_during3quartal  \\\n",
       "0  0            46.37               0.0                                     \n",
       "1  1            47.68               0.0                                     \n",
       "2  1            40.73               0.0                                     \n",
       "3  10           47.42               0.0                                     \n",
       "4  0            47.18               0.0                                     \n",
       "\n",
       "   Best Performance  \n",
       "0  0                 \n",
       "1  0                 \n",
       "2  0                 \n",
       "3  1                 \n",
       "4  0                 \n",
       "\n",
       "[5 rows x 22 columns]"
      ]
     },
     "execution_count": 4,
     "metadata": {},
     "output_type": "execute_result"
    }
   ],
   "source": [
    "train_df.head()"
   ]
  },
  {
   "cell_type": "code",
   "execution_count": 5,
   "metadata": {},
   "outputs": [],
   "source": [
    "train_df.dropna(inplace=True)"
   ]
  },
  {
   "cell_type": "code",
   "execution_count": 6,
   "metadata": {},
   "outputs": [
    {
     "data": {
      "text/plain": [
       "(11152, 22)"
      ]
     },
     "execution_count": 6,
     "metadata": {},
     "output_type": "execute_result"
    }
   ],
   "source": [
    "train_df.shape"
   ]
  },
  {
   "cell_type": "code",
   "execution_count": 7,
   "metadata": {
    "scrolled": true
   },
   "outputs": [
    {
     "data": {
      "text/plain": [
       "(6000, 21)"
      ]
     },
     "execution_count": 7,
     "metadata": {},
     "output_type": "execute_result"
    }
   ],
   "source": [
    "test_df.shape"
   ]
  },
  {
   "cell_type": "markdown",
   "metadata": {},
   "source": [
    "# Data Transformation"
   ]
  },
  {
   "cell_type": "markdown",
   "metadata": {},
   "source": [
    "### GPA"
   ]
  },
  {
   "cell_type": "code",
   "execution_count": 23,
   "metadata": {},
   "outputs": [],
   "source": [
    "gpa = train_df['GPA'].tolist()\n",
    "for n, i in enumerate(gpa):\n",
    "    if i >= 5.00 or i <= 2.00:\n",
    "        gpa[n] = np.nan\n",
    "train_df['GPA'] = pd.Series(gpa)\n",
    "train_df['GPA'].fillna(0, inplace=True)"
   ]
  },
  {
   "cell_type": "code",
   "execution_count": 24,
   "metadata": {},
   "outputs": [],
   "source": [
    "gpa = test_df['GPA'].tolist()\n",
    "for n, i in enumerate(gpa):\n",
    "    if i >= 5.00 or i <= 2.00:\n",
    "        gpa[n] = np.nan\n",
    "test_df['GPA'] = pd.Series(gpa)\n",
    "test_df['GPA'].fillna(0, inplace=True)"
   ]
  },
  {
   "cell_type": "markdown",
   "metadata": {},
   "source": [
    "### Age"
   ]
  },
  {
   "cell_type": "code",
   "execution_count": 12,
   "metadata": {},
   "outputs": [],
   "source": [
    "age = train_df['age'].tolist()\n",
    "age = [2020-i for i in age]\n",
    "train_df['age'] = pd.Series(age)"
   ]
  },
  {
   "cell_type": "code",
   "execution_count": 19,
   "metadata": {},
   "outputs": [],
   "source": [
    "train_df['age'].fillna('40', inplace=True)"
   ]
  },
  {
   "cell_type": "code",
   "execution_count": 20,
   "metadata": {},
   "outputs": [],
   "source": [
    "age = test_df['age'].tolist()\n",
    "age = [2020-i for i in age]\n",
    "test_df['age'] = pd.Series(age)"
   ]
  },
  {
   "cell_type": "code",
   "execution_count": null,
   "metadata": {},
   "outputs": [],
   "source": []
  }
 ],
 "metadata": {
  "kernelspec": {
   "display_name": "Python 3",
   "language": "python",
   "name": "python3"
  },
  "language_info": {
   "codemirror_mode": {
    "name": "ipython",
    "version": 3
   },
   "file_extension": ".py",
   "mimetype": "text/x-python",
   "name": "python",
   "nbconvert_exporter": "python",
   "pygments_lexer": "ipython3",
   "version": "3.7.6"
  }
 },
 "nbformat": 4,
 "nbformat_minor": 4
}

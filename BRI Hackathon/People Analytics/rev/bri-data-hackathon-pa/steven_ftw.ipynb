{
 "cells": [
  {
   "cell_type": "code",
   "execution_count": 1,
   "metadata": {},
   "outputs": [],
   "source": [
    "import pandas as pd\n",
    "import numpy as np\n",
    "import matplotlib.pyplot as plt\n",
    "import seaborn as sns"
   ]
  },
  {
   "cell_type": "code",
   "execution_count": 2,
   "metadata": {},
   "outputs": [],
   "source": [
    "train = pd.read_csv('train.csv')\n",
    "test = pd.read_csv('test.csv')\n",
    "desc = pd.read_csv('data_description.csv')"
   ]
  },
  {
   "cell_type": "code",
   "execution_count": 4,
   "metadata": {},
   "outputs": [
    {
     "name": "stderr",
     "output_type": "stream",
     "text": [
      "/opt/anaconda3/lib/python3.7/site-packages/ipykernel_launcher.py:1: FutureWarning: Passing a negative integer is deprecated in version 1.0 and will not be supported in future version. Instead, use None to not limit the column width.\n",
      "  \"\"\"Entry point for launching an IPython kernel.\n"
     ]
    },
    {
     "data": {
      "text/html": [
       "<div>\n",
       "<style scoped>\n",
       "    .dataframe tbody tr th:only-of-type {\n",
       "        vertical-align: middle;\n",
       "    }\n",
       "\n",
       "    .dataframe tbody tr th {\n",
       "        vertical-align: top;\n",
       "    }\n",
       "\n",
       "    .dataframe thead th {\n",
       "        text-align: right;\n",
       "    }\n",
       "</style>\n",
       "<table border=\"1\" class=\"dataframe\">\n",
       "  <thead>\n",
       "    <tr style=\"text-align: right;\">\n",
       "      <th></th>\n",
       "      <th>Kolom</th>\n",
       "      <th>Keterangan</th>\n",
       "    </tr>\n",
       "  </thead>\n",
       "  <tbody>\n",
       "    <tr>\n",
       "      <th>0</th>\n",
       "      <td>job_level</td>\n",
       "      <td>Level Jabatan Pekerja</td>\n",
       "    </tr>\n",
       "    <tr>\n",
       "      <th>1</th>\n",
       "      <td>job_duration_in_current_job_level</td>\n",
       "      <td>Masa Kerja pada job level saat ini</td>\n",
       "    </tr>\n",
       "    <tr>\n",
       "      <th>2</th>\n",
       "      <td>person_level</td>\n",
       "      <td>Level personal Pekerja</td>\n",
       "    </tr>\n",
       "    <tr>\n",
       "      <th>3</th>\n",
       "      <td>job_duration_in_current_person_level</td>\n",
       "      <td>Masa Kerja pada person level saat ini</td>\n",
       "    </tr>\n",
       "    <tr>\n",
       "      <th>4</th>\n",
       "      <td>job_duration_in_current_branch</td>\n",
       "      <td>Masa Kerja pada unit kerja saat ini</td>\n",
       "    </tr>\n",
       "    <tr>\n",
       "      <th>5</th>\n",
       "      <td>Employee_type</td>\n",
       "      <td>Tipe Pekerja ( 3 tipe Relationship Manager, tipe A, B , dan C)</td>\n",
       "    </tr>\n",
       "    <tr>\n",
       "      <th>6</th>\n",
       "      <td>gender</td>\n",
       "      <td>Jenis Kelamin</td>\n",
       "    </tr>\n",
       "    <tr>\n",
       "      <th>7</th>\n",
       "      <td>age</td>\n",
       "      <td>Usia</td>\n",
       "    </tr>\n",
       "    <tr>\n",
       "      <th>8</th>\n",
       "      <td>marital_status_maried(Y/N)</td>\n",
       "      <td>Status Pernikahan (Y / N)</td>\n",
       "    </tr>\n",
       "    <tr>\n",
       "      <th>9</th>\n",
       "      <td>number_of_dependences</td>\n",
       "      <td>Jumlah anak dalam tanggungan</td>\n",
       "    </tr>\n",
       "    <tr>\n",
       "      <th>10</th>\n",
       "      <td>Education_level</td>\n",
       "      <td>Tingkat pendidikan</td>\n",
       "    </tr>\n",
       "    <tr>\n",
       "      <th>11</th>\n",
       "      <td>GPA</td>\n",
       "      <td>IPK</td>\n",
       "    </tr>\n",
       "    <tr>\n",
       "      <th>12</th>\n",
       "      <td>year_graduated</td>\n",
       "      <td>Tahun lulus</td>\n",
       "    </tr>\n",
       "    <tr>\n",
       "      <th>13</th>\n",
       "      <td>job_duration_from_training</td>\n",
       "      <td>lama bekerja mulai dari training</td>\n",
       "    </tr>\n",
       "    <tr>\n",
       "      <th>14</th>\n",
       "      <td>branch_rotation</td>\n",
       "      <td>Jumlah rotasi pindah unit kerja</td>\n",
       "    </tr>\n",
       "    <tr>\n",
       "      <th>15</th>\n",
       "      <td>job_rotation</td>\n",
       "      <td>jumlah rotasi pindah jabatan</td>\n",
       "    </tr>\n",
       "    <tr>\n",
       "      <th>16</th>\n",
       "      <td>assign_of_otherposition</td>\n",
       "      <td>jumlah rotasi penugasan</td>\n",
       "    </tr>\n",
       "    <tr>\n",
       "      <th>17</th>\n",
       "      <td>annual leave</td>\n",
       "      <td>jumlah cuti tahunan</td>\n",
       "    </tr>\n",
       "    <tr>\n",
       "      <th>18</th>\n",
       "      <td>sick_leaves</td>\n",
       "      <td>jumlah izin sakit</td>\n",
       "    </tr>\n",
       "    <tr>\n",
       "      <th>19</th>\n",
       "      <td>Last_achievement_%</td>\n",
       "      <td>presentase pencapaian triwulan terakhir terhadap target</td>\n",
       "    </tr>\n",
       "    <tr>\n",
       "      <th>20</th>\n",
       "      <td>Achievement_above_100%_during3quartal</td>\n",
       "      <td>Jumlah pencapaian diatas 100% dalam 3 tahun terkahir</td>\n",
       "    </tr>\n",
       "    <tr>\n",
       "      <th>21</th>\n",
       "      <td>Best Performance</td>\n",
       "      <td>Termasuk dalam best performance (1/0)</td>\n",
       "    </tr>\n",
       "  </tbody>\n",
       "</table>\n",
       "</div>"
      ],
      "text/plain": [
       "                                    Kolom  \\\n",
       "0   job_level                               \n",
       "1   job_duration_in_current_job_level       \n",
       "2   person_level                            \n",
       "3   job_duration_in_current_person_level    \n",
       "4   job_duration_in_current_branch          \n",
       "5   Employee_type                           \n",
       "6   gender                                  \n",
       "7   age                                     \n",
       "8   marital_status_maried(Y/N)              \n",
       "9   number_of_dependences                   \n",
       "10  Education_level                         \n",
       "11  GPA                                     \n",
       "12  year_graduated                          \n",
       "13  job_duration_from_training              \n",
       "14  branch_rotation                         \n",
       "15  job_rotation                            \n",
       "16  assign_of_otherposition                 \n",
       "17  annual leave                            \n",
       "18  sick_leaves                             \n",
       "19  Last_achievement_%                      \n",
       "20  Achievement_above_100%_during3quartal   \n",
       "21  Best Performance                        \n",
       "\n",
       "                                                        Keterangan  \n",
       "0   Level Jabatan Pekerja                                           \n",
       "1   Masa Kerja pada job level saat ini                              \n",
       "2   Level personal Pekerja                                          \n",
       "3   Masa Kerja pada person level saat ini                           \n",
       "4   Masa Kerja pada unit kerja saat ini                             \n",
       "5   Tipe Pekerja ( 3 tipe Relationship Manager, tipe A, B , dan C)  \n",
       "6   Jenis Kelamin                                                   \n",
       "7   Usia                                                            \n",
       "8   Status Pernikahan (Y / N)                                       \n",
       "9   Jumlah anak dalam tanggungan                                    \n",
       "10  Tingkat pendidikan                                              \n",
       "11  IPK                                                             \n",
       "12  Tahun lulus                                                     \n",
       "13  lama bekerja mulai dari training                                \n",
       "14  Jumlah rotasi pindah unit kerja                                 \n",
       "15  jumlah rotasi pindah jabatan                                    \n",
       "16  jumlah rotasi penugasan                                         \n",
       "17  jumlah cuti tahunan                                             \n",
       "18  jumlah izin sakit                                               \n",
       "19  presentase pencapaian triwulan terakhir terhadap target         \n",
       "20  Jumlah pencapaian diatas 100% dalam 3 tahun terkahir            \n",
       "21  Termasuk dalam best performance (1/0)                           "
      ]
     },
     "execution_count": 4,
     "metadata": {},
     "output_type": "execute_result"
    }
   ],
   "source": [
    "pd.set_option('display.max_colwidth', -1)\n",
    "desc"
   ]
  },
  {
   "cell_type": "code",
   "execution_count": 7,
   "metadata": {},
   "outputs": [
    {
     "data": {
      "text/plain": [
       "job_level                                0\n",
       "job_duration_in_current_job_level        0\n",
       "person_level                             0\n",
       "job_duration_in_current_person_level     0\n",
       "job_duration_in_current_branch           0\n",
       "Employee_type                            0\n",
       "gender                                   0\n",
       "age                                      0\n",
       "marital_status_maried(Y/N)               0\n",
       "number_of_dependences                    0\n",
       "Education_level                          0\n",
       "GPA                                      0\n",
       "year_graduated                           0\n",
       "job_duration_from_training               0\n",
       "branch_rotation                          0\n",
       "job_rotation                             0\n",
       "assign_of_otherposition                  0\n",
       "annual leave                             0\n",
       "sick_leaves                              0\n",
       "Last_achievement_%                       1\n",
       "Achievement_above_100%_during3quartal    1\n",
       "Best Performance                         0\n",
       "dtype: int64"
      ]
     },
     "execution_count": 7,
     "metadata": {},
     "output_type": "execute_result"
    }
   ],
   "source": [
    "train.isnull().sum()"
   ]
  },
  {
   "cell_type": "code",
   "execution_count": 11,
   "metadata": {},
   "outputs": [
    {
     "data": {
      "text/html": [
       "<div>\n",
       "<style scoped>\n",
       "    .dataframe tbody tr th:only-of-type {\n",
       "        vertical-align: middle;\n",
       "    }\n",
       "\n",
       "    .dataframe tbody tr th {\n",
       "        vertical-align: top;\n",
       "    }\n",
       "\n",
       "    .dataframe thead th {\n",
       "        text-align: right;\n",
       "    }\n",
       "</style>\n",
       "<table border=\"1\" class=\"dataframe\">\n",
       "  <thead>\n",
       "    <tr style=\"text-align: right;\">\n",
       "      <th></th>\n",
       "      <th>job_level</th>\n",
       "      <th>job_duration_in_current_job_level</th>\n",
       "      <th>person_level</th>\n",
       "      <th>job_duration_in_current_person_level</th>\n",
       "      <th>job_duration_in_current_branch</th>\n",
       "      <th>Employee_type</th>\n",
       "      <th>gender</th>\n",
       "      <th>age</th>\n",
       "      <th>marital_status_maried(Y/N)</th>\n",
       "      <th>number_of_dependences</th>\n",
       "      <th>...</th>\n",
       "      <th>year_graduated</th>\n",
       "      <th>job_duration_from_training</th>\n",
       "      <th>branch_rotation</th>\n",
       "      <th>job_rotation</th>\n",
       "      <th>assign_of_otherposition</th>\n",
       "      <th>annual leave</th>\n",
       "      <th>sick_leaves</th>\n",
       "      <th>Last_achievement_%</th>\n",
       "      <th>Achievement_above_100%_during3quartal</th>\n",
       "      <th>Best Performance</th>\n",
       "    </tr>\n",
       "  </thead>\n",
       "  <tbody>\n",
       "    <tr>\n",
       "      <th>1882</th>\n",
       "      <td>JG04</td>\n",
       "      <td>1.292285</td>\n",
       "      <td>PG03</td>\n",
       "      <td>1.292285</td>\n",
       "      <td>0.911043</td>\n",
       "      <td>RM_type_A</td>\n",
       "      <td>1</td>\n",
       "      <td>1991</td>\n",
       "      <td>N</td>\n",
       "      <td>0</td>\n",
       "      <td>...</td>\n",
       "      <td>2012</td>\n",
       "      <td>5</td>\n",
       "      <td>4</td>\n",
       "      <td>5</td>\n",
       "      <td>0</td>\n",
       "      <td>1</td>\n",
       "      <td>15</td>\n",
       "      <td>NaN</td>\n",
       "      <td>NaN</td>\n",
       "      <td>0</td>\n",
       "    </tr>\n",
       "  </tbody>\n",
       "</table>\n",
       "<p>1 rows × 22 columns</p>\n",
       "</div>"
      ],
      "text/plain": [
       "     job_level  job_duration_in_current_job_level person_level  \\\n",
       "1882  JG04      1.292285                           PG03          \n",
       "\n",
       "      job_duration_in_current_person_level  job_duration_in_current_branch  \\\n",
       "1882  1.292285                              0.911043                         \n",
       "\n",
       "     Employee_type  gender   age marital_status_maried(Y/N)  \\\n",
       "1882  RM_type_A     1       1991  N                           \n",
       "\n",
       "      number_of_dependences  ... year_graduated  job_duration_from_training  \\\n",
       "1882  0                      ...  2012           5                            \n",
       "\n",
       "      branch_rotation  job_rotation  assign_of_otherposition  annual leave  \\\n",
       "1882  4                5             0                        1              \n",
       "\n",
       "      sick_leaves  Last_achievement_%  Achievement_above_100%_during3quartal  \\\n",
       "1882  15          NaN                 NaN                                      \n",
       "\n",
       "      Best Performance  \n",
       "1882  0                 \n",
       "\n",
       "[1 rows x 22 columns]"
      ]
     },
     "execution_count": 11,
     "metadata": {},
     "output_type": "execute_result"
    }
   ],
   "source": [
    "train.loc[train['Last_achievement_%'].isnull()]"
   ]
  },
  {
   "cell_type": "code",
   "execution_count": 12,
   "metadata": {},
   "outputs": [],
   "source": [
    "train = train.loc[~train['Last_achievement_%'].isnull()]"
   ]
  },
  {
   "cell_type": "code",
   "execution_count": 18,
   "metadata": {},
   "outputs": [],
   "source": [
    "X = train[['Education_level', 'age', 'job_duration_from_training', \n",
    "           'Achievement_above_100%_during3quartal', 'Last_achievement_%']]"
   ]
  },
  {
   "cell_type": "code",
   "execution_count": 21,
   "metadata": {},
   "outputs": [],
   "source": [
    "y = train['Best Performance']"
   ]
  },
  {
   "cell_type": "code",
   "execution_count": 22,
   "metadata": {},
   "outputs": [],
   "source": [
    "from sklearn.compose import ColumnTransformer\n",
    "from sklearn.preprocessing import OneHotEncoder\n",
    "ct = ColumnTransformer(transformers=[('encoder', OneHotEncoder(), [0])], remainder='passthrough')\n",
    "X = np.array(ct.fit_transform(X))"
   ]
  },
  {
   "cell_type": "code",
   "execution_count": 23,
   "metadata": {},
   "outputs": [
    {
     "data": {
      "text/plain": [
       "array([[ 1.  ,  0.  ,  0.  , ...,  4.  ,  0.  , 46.37],\n",
       "       [ 0.  ,  1.  ,  0.  , ...,  4.  ,  0.  , 47.68],\n",
       "       [ 0.  ,  1.  ,  0.  , ..., 28.  ,  0.  , 40.73],\n",
       "       ...,\n",
       "       [ 0.  ,  0.  ,  0.  , ...,  2.  ,  0.  , 78.38],\n",
       "       [ 0.  ,  0.  ,  0.  , ...,  5.  ,  1.  , 85.94],\n",
       "       [ 0.  ,  0.  ,  0.  , ..., 14.  ,  1.  , 79.99]])"
      ]
     },
     "execution_count": 23,
     "metadata": {},
     "output_type": "execute_result"
    }
   ],
   "source": [
    "X"
   ]
  },
  {
   "cell_type": "code",
   "execution_count": 25,
   "metadata": {},
   "outputs": [],
   "source": [
    "from sklearn.model_selection import train_test_split\n",
    "X_train, X_test, y_train, y_test = train_test_split(X, y, test_size = 0.25, random_state=1)"
   ]
  },
  {
   "cell_type": "code",
   "execution_count": 26,
   "metadata": {},
   "outputs": [],
   "source": [
    "from sklearn.preprocessing import StandardScaler\n",
    "sc = StandardScaler()\n",
    "X_train = sc.fit_transform(X_train)\n",
    "X_test = sc.transform(X_test)"
   ]
  },
  {
   "cell_type": "code",
   "execution_count": 27,
   "metadata": {},
   "outputs": [
    {
     "data": {
      "text/plain": [
       "SVC(C=1.0, break_ties=False, cache_size=200, class_weight=None, coef0=0.0,\n",
       "    decision_function_shape='ovr', degree=3, gamma='scale', kernel='linear',\n",
       "    max_iter=-1, probability=False, random_state=0, shrinking=True, tol=0.001,\n",
       "    verbose=False)"
      ]
     },
     "execution_count": 27,
     "metadata": {},
     "output_type": "execute_result"
    }
   ],
   "source": [
    "from sklearn.svm import SVC\n",
    "SVMclassifier = SVC(kernel = 'linear', random_state = 0)\n",
    "SVMclassifier.fit(X_train, y_train)"
   ]
  },
  {
   "cell_type": "code",
   "execution_count": 28,
   "metadata": {},
   "outputs": [],
   "source": [
    "y_pred = SVMclassifier.predict(X_test)"
   ]
  },
  {
   "cell_type": "code",
   "execution_count": 29,
   "metadata": {},
   "outputs": [
    {
     "name": "stdout",
     "output_type": "stream",
     "text": [
      "[[2366    0]\n",
      " [ 422    0]]\n"
     ]
    },
    {
     "data": {
      "text/plain": [
       "0.8486370157819225"
      ]
     },
     "execution_count": 29,
     "metadata": {},
     "output_type": "execute_result"
    }
   ],
   "source": [
    "from sklearn.metrics import confusion_matrix, accuracy_score\n",
    "cm = confusion_matrix(y_test, y_pred)\n",
    "print(cm)\n",
    "accuracy_score(y_test, y_pred)"
   ]
  },
  {
   "cell_type": "code",
   "execution_count": 31,
   "metadata": {},
   "outputs": [],
   "source": [
    "test = test[['Education_level', 'age', 'job_duration_from_training', \n",
    "           'Achievement_above_100%_during3quartal', 'Last_achievement_%']]"
   ]
  },
  {
   "cell_type": "code",
   "execution_count": 32,
   "metadata": {},
   "outputs": [],
   "source": [
    "test = np.array(ct.fit_transform(test))"
   ]
  },
  {
   "cell_type": "code",
   "execution_count": 33,
   "metadata": {},
   "outputs": [],
   "source": [
    "test = sc.transform(test)"
   ]
  },
  {
   "cell_type": "code",
   "execution_count": 34,
   "metadata": {},
   "outputs": [],
   "source": [
    "y_pred = SVMclassifier.predict(test)"
   ]
  },
  {
   "cell_type": "code",
   "execution_count": 37,
   "metadata": {},
   "outputs": [],
   "source": [
    "df = pd.DataFrame(y_pred)"
   ]
  },
  {
   "cell_type": "code",
   "execution_count": 38,
   "metadata": {},
   "outputs": [
    {
     "ename": "AttributeError",
     "evalue": "'DataFrame' object has no attribute 'value_counts'",
     "output_type": "error",
     "traceback": [
      "\u001b[0;31m---------------------------------------------------------------------------\u001b[0m",
      "\u001b[0;31mAttributeError\u001b[0m                            Traceback (most recent call last)",
      "\u001b[0;32m<ipython-input-38-986e25863b45>\u001b[0m in \u001b[0;36m<module>\u001b[0;34m\u001b[0m\n\u001b[0;32m----> 1\u001b[0;31m \u001b[0mdf\u001b[0m\u001b[0;34m.\u001b[0m\u001b[0mvalue_counts\u001b[0m\u001b[0;34m(\u001b[0m\u001b[0;34m)\u001b[0m\u001b[0;34m\u001b[0m\u001b[0;34m\u001b[0m\u001b[0m\n\u001b[0m",
      "\u001b[0;32m/opt/anaconda3/lib/python3.7/site-packages/pandas/core/generic.py\u001b[0m in \u001b[0;36m__getattr__\u001b[0;34m(self, name)\u001b[0m\n\u001b[1;32m   5272\u001b[0m             \u001b[0;32mif\u001b[0m \u001b[0mself\u001b[0m\u001b[0;34m.\u001b[0m\u001b[0m_info_axis\u001b[0m\u001b[0;34m.\u001b[0m\u001b[0m_can_hold_identifiers_and_holds_name\u001b[0m\u001b[0;34m(\u001b[0m\u001b[0mname\u001b[0m\u001b[0;34m)\u001b[0m\u001b[0;34m:\u001b[0m\u001b[0;34m\u001b[0m\u001b[0;34m\u001b[0m\u001b[0m\n\u001b[1;32m   5273\u001b[0m                 \u001b[0;32mreturn\u001b[0m \u001b[0mself\u001b[0m\u001b[0;34m[\u001b[0m\u001b[0mname\u001b[0m\u001b[0;34m]\u001b[0m\u001b[0;34m\u001b[0m\u001b[0;34m\u001b[0m\u001b[0m\n\u001b[0;32m-> 5274\u001b[0;31m             \u001b[0;32mreturn\u001b[0m \u001b[0mobject\u001b[0m\u001b[0;34m.\u001b[0m\u001b[0m__getattribute__\u001b[0m\u001b[0;34m(\u001b[0m\u001b[0mself\u001b[0m\u001b[0;34m,\u001b[0m \u001b[0mname\u001b[0m\u001b[0;34m)\u001b[0m\u001b[0;34m\u001b[0m\u001b[0;34m\u001b[0m\u001b[0m\n\u001b[0m\u001b[1;32m   5275\u001b[0m \u001b[0;34m\u001b[0m\u001b[0m\n\u001b[1;32m   5276\u001b[0m     \u001b[0;32mdef\u001b[0m \u001b[0m__setattr__\u001b[0m\u001b[0;34m(\u001b[0m\u001b[0mself\u001b[0m\u001b[0;34m,\u001b[0m \u001b[0mname\u001b[0m\u001b[0;34m:\u001b[0m \u001b[0mstr\u001b[0m\u001b[0;34m,\u001b[0m \u001b[0mvalue\u001b[0m\u001b[0;34m)\u001b[0m \u001b[0;34m->\u001b[0m \u001b[0;32mNone\u001b[0m\u001b[0;34m:\u001b[0m\u001b[0;34m\u001b[0m\u001b[0;34m\u001b[0m\u001b[0m\n",
      "\u001b[0;31mAttributeError\u001b[0m: 'DataFrame' object has no attribute 'value_counts'"
     ]
    }
   ],
   "source": [
    "df.value_counts()"
   ]
  },
  {
   "cell_type": "code",
   "execution_count": null,
   "metadata": {},
   "outputs": [],
   "source": []
  }
 ],
 "metadata": {
  "kernelspec": {
   "display_name": "Python 3",
   "language": "python",
   "name": "python3"
  },
  "language_info": {
   "codemirror_mode": {
    "name": "ipython",
    "version": 3
   },
   "file_extension": ".py",
   "mimetype": "text/x-python",
   "name": "python",
   "nbconvert_exporter": "python",
   "pygments_lexer": "ipython3",
   "version": "3.7.6"
  }
 },
 "nbformat": 4,
 "nbformat_minor": 4
}

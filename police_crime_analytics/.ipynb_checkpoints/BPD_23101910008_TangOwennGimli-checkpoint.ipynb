{
 "cells": [
  {
   "cell_type": "code",
   "execution_count": 5,
   "metadata": {},
   "outputs": [],
   "source": [
    "import numpy as np\n",
    "import pandas as pd\n",
    "import matplotlib.pyplot as plt"
   ]
  },
  {
   "cell_type": "code",
   "execution_count": 6,
   "metadata": {},
   "outputs": [],
   "source": [
    "df = pd.read_csv(r\"./data.csv\")"
   ]
  },
  {
   "cell_type": "markdown",
   "metadata": {},
   "source": [
    "# Overall Data"
   ]
  },
  {
   "cell_type": "code",
   "execution_count": 7,
   "metadata": {},
   "outputs": [
    {
     "data": {
      "text/html": [
       "<div>\n",
       "<style scoped>\n",
       "    .dataframe tbody tr th:only-of-type {\n",
       "        vertical-align: middle;\n",
       "    }\n",
       "\n",
       "    .dataframe tbody tr th {\n",
       "        vertical-align: top;\n",
       "    }\n",
       "\n",
       "    .dataframe thead th {\n",
       "        text-align: right;\n",
       "    }\n",
       "</style>\n",
       "<table border=\"1\" class=\"dataframe\">\n",
       "  <thead>\n",
       "    <tr style=\"text-align: right;\">\n",
       "      <th></th>\n",
       "      <th>CrimeDate</th>\n",
       "      <th>CrimeTime</th>\n",
       "      <th>CrimeCode</th>\n",
       "      <th>Location</th>\n",
       "      <th>Description</th>\n",
       "      <th>Inside/Outside</th>\n",
       "      <th>Weapon</th>\n",
       "      <th>Post</th>\n",
       "      <th>District</th>\n",
       "      <th>Neighborhood</th>\n",
       "      <th>Location 1</th>\n",
       "      <th>Total Incidents</th>\n",
       "    </tr>\n",
       "  </thead>\n",
       "  <tbody>\n",
       "    <tr>\n",
       "      <th>0</th>\n",
       "      <td>11/12/2016</td>\n",
       "      <td>02:35:00</td>\n",
       "      <td>3B</td>\n",
       "      <td>300 SAINT PAUL PL</td>\n",
       "      <td>ROBBERY - STREET</td>\n",
       "      <td>O</td>\n",
       "      <td>NaN</td>\n",
       "      <td>111.0</td>\n",
       "      <td>CENTRAL</td>\n",
       "      <td>Downtown</td>\n",
       "      <td>(39.2924100000, -76.6140800000)</td>\n",
       "      <td>1</td>\n",
       "    </tr>\n",
       "    <tr>\n",
       "      <th>1</th>\n",
       "      <td>11/12/2016</td>\n",
       "      <td>02:56:00</td>\n",
       "      <td>3CF</td>\n",
       "      <td>800 S BROADWAY</td>\n",
       "      <td>ROBBERY - COMMERCIAL</td>\n",
       "      <td>I</td>\n",
       "      <td>FIREARM</td>\n",
       "      <td>213.0</td>\n",
       "      <td>SOUTHEASTERN</td>\n",
       "      <td>Fells Point</td>\n",
       "      <td>(39.2824200000, -76.5928800000)</td>\n",
       "      <td>1</td>\n",
       "    </tr>\n",
       "    <tr>\n",
       "      <th>2</th>\n",
       "      <td>11/12/2016</td>\n",
       "      <td>03:00:00</td>\n",
       "      <td>6D</td>\n",
       "      <td>1500 PENTWOOD RD</td>\n",
       "      <td>LARCENY FROM AUTO</td>\n",
       "      <td>O</td>\n",
       "      <td>NaN</td>\n",
       "      <td>413.0</td>\n",
       "      <td>NORTHEASTERN</td>\n",
       "      <td>Stonewood-Pentwood-Winston</td>\n",
       "      <td>(39.3480500000, -76.5883400000)</td>\n",
       "      <td>1</td>\n",
       "    </tr>\n",
       "    <tr>\n",
       "      <th>3</th>\n",
       "      <td>11/12/2016</td>\n",
       "      <td>03:00:00</td>\n",
       "      <td>6D</td>\n",
       "      <td>6600 MILTON LN</td>\n",
       "      <td>LARCENY FROM AUTO</td>\n",
       "      <td>O</td>\n",
       "      <td>NaN</td>\n",
       "      <td>424.0</td>\n",
       "      <td>NORTHEASTERN</td>\n",
       "      <td>Westfield</td>\n",
       "      <td>(39.3626300000, -76.5516100000)</td>\n",
       "      <td>1</td>\n",
       "    </tr>\n",
       "    <tr>\n",
       "      <th>4</th>\n",
       "      <td>11/12/2016</td>\n",
       "      <td>03:00:00</td>\n",
       "      <td>6E</td>\n",
       "      <td>300 W BALTIMORE ST</td>\n",
       "      <td>LARCENY</td>\n",
       "      <td>O</td>\n",
       "      <td>NaN</td>\n",
       "      <td>111.0</td>\n",
       "      <td>CENTRAL</td>\n",
       "      <td>Downtown</td>\n",
       "      <td>(39.2893800000, -76.6197100000)</td>\n",
       "      <td>1</td>\n",
       "    </tr>\n",
       "    <tr>\n",
       "      <th>...</th>\n",
       "      <td>...</td>\n",
       "      <td>...</td>\n",
       "      <td>...</td>\n",
       "      <td>...</td>\n",
       "      <td>...</td>\n",
       "      <td>...</td>\n",
       "      <td>...</td>\n",
       "      <td>...</td>\n",
       "      <td>...</td>\n",
       "      <td>...</td>\n",
       "      <td>...</td>\n",
       "      <td>...</td>\n",
       "    </tr>\n",
       "    <tr>\n",
       "      <th>285802</th>\n",
       "      <td>01/01/2011</td>\n",
       "      <td>22:15:00</td>\n",
       "      <td>4D</td>\n",
       "      <td>6800 MCCLEAN BD</td>\n",
       "      <td>AGG. ASSAULT</td>\n",
       "      <td>I</td>\n",
       "      <td>HANDS</td>\n",
       "      <td>423.0</td>\n",
       "      <td>NORTHEASTERN</td>\n",
       "      <td>Hamilton Hills</td>\n",
       "      <td>(39.3704700000, -76.5670500000)</td>\n",
       "      <td>1</td>\n",
       "    </tr>\n",
       "    <tr>\n",
       "      <th>285803</th>\n",
       "      <td>01/01/2011</td>\n",
       "      <td>22:30:00</td>\n",
       "      <td>6J</td>\n",
       "      <td>3000 ODONNELL ST</td>\n",
       "      <td>LARCENY</td>\n",
       "      <td>I</td>\n",
       "      <td>NaN</td>\n",
       "      <td>232.0</td>\n",
       "      <td>SOUTHEASTERN</td>\n",
       "      <td>Canton</td>\n",
       "      <td>(39.2804600000, -76.5727300000)</td>\n",
       "      <td>1</td>\n",
       "    </tr>\n",
       "    <tr>\n",
       "      <th>285804</th>\n",
       "      <td>01/01/2011</td>\n",
       "      <td>23:00:00</td>\n",
       "      <td>7A</td>\n",
       "      <td>2500 ARUNAH AV</td>\n",
       "      <td>AUTO THEFT</td>\n",
       "      <td>O</td>\n",
       "      <td>NaN</td>\n",
       "      <td>721.0</td>\n",
       "      <td>WESTERN</td>\n",
       "      <td>Evergreen Lawn</td>\n",
       "      <td>(39.2954200000, -76.6592800000)</td>\n",
       "      <td>1</td>\n",
       "    </tr>\n",
       "    <tr>\n",
       "      <th>285805</th>\n",
       "      <td>01/01/2011</td>\n",
       "      <td>23:25:00</td>\n",
       "      <td>4E</td>\n",
       "      <td>100 N MONROE ST</td>\n",
       "      <td>COMMON ASSAULT</td>\n",
       "      <td>I</td>\n",
       "      <td>HANDS</td>\n",
       "      <td>714.0</td>\n",
       "      <td>WESTERN</td>\n",
       "      <td>Penrose/Fayette Street Outreach</td>\n",
       "      <td>(39.2899900000, -76.6470700000)</td>\n",
       "      <td>1</td>\n",
       "    </tr>\n",
       "    <tr>\n",
       "      <th>285806</th>\n",
       "      <td>01/01/2011</td>\n",
       "      <td>23:38:00</td>\n",
       "      <td>4D</td>\n",
       "      <td>800 N FREMONT AV</td>\n",
       "      <td>AGG. ASSAULT</td>\n",
       "      <td>I</td>\n",
       "      <td>HANDS</td>\n",
       "      <td>123.0</td>\n",
       "      <td>WESTERN</td>\n",
       "      <td>Upton</td>\n",
       "      <td>(39.2981200000, -76.6339100000)</td>\n",
       "      <td>1</td>\n",
       "    </tr>\n",
       "  </tbody>\n",
       "</table>\n",
       "<p>285807 rows × 12 columns</p>\n",
       "</div>"
      ],
      "text/plain": [
       "         CrimeDate CrimeTime CrimeCode            Location  \\\n",
       "0       11/12/2016  02:35:00        3B   300 SAINT PAUL PL   \n",
       "1       11/12/2016  02:56:00       3CF      800 S BROADWAY   \n",
       "2       11/12/2016  03:00:00        6D    1500 PENTWOOD RD   \n",
       "3       11/12/2016  03:00:00        6D      6600 MILTON LN   \n",
       "4       11/12/2016  03:00:00        6E  300 W BALTIMORE ST   \n",
       "...            ...       ...       ...                 ...   \n",
       "285802  01/01/2011  22:15:00        4D     6800 MCCLEAN BD   \n",
       "285803  01/01/2011  22:30:00        6J    3000 ODONNELL ST   \n",
       "285804  01/01/2011  23:00:00        7A      2500 ARUNAH AV   \n",
       "285805  01/01/2011  23:25:00        4E     100 N MONROE ST   \n",
       "285806  01/01/2011  23:38:00        4D    800 N FREMONT AV   \n",
       "\n",
       "                 Description Inside/Outside   Weapon   Post      District  \\\n",
       "0           ROBBERY - STREET              O      NaN  111.0       CENTRAL   \n",
       "1       ROBBERY - COMMERCIAL              I  FIREARM  213.0  SOUTHEASTERN   \n",
       "2          LARCENY FROM AUTO              O      NaN  413.0  NORTHEASTERN   \n",
       "3          LARCENY FROM AUTO              O      NaN  424.0  NORTHEASTERN   \n",
       "4                    LARCENY              O      NaN  111.0       CENTRAL   \n",
       "...                      ...            ...      ...    ...           ...   \n",
       "285802          AGG. ASSAULT              I    HANDS  423.0  NORTHEASTERN   \n",
       "285803               LARCENY              I      NaN  232.0  SOUTHEASTERN   \n",
       "285804            AUTO THEFT              O      NaN  721.0       WESTERN   \n",
       "285805        COMMON ASSAULT              I    HANDS  714.0       WESTERN   \n",
       "285806          AGG. ASSAULT              I    HANDS  123.0       WESTERN   \n",
       "\n",
       "                           Neighborhood                       Location 1  \\\n",
       "0                              Downtown  (39.2924100000, -76.6140800000)   \n",
       "1                           Fells Point  (39.2824200000, -76.5928800000)   \n",
       "2            Stonewood-Pentwood-Winston  (39.3480500000, -76.5883400000)   \n",
       "3                             Westfield  (39.3626300000, -76.5516100000)   \n",
       "4                              Downtown  (39.2893800000, -76.6197100000)   \n",
       "...                                 ...                              ...   \n",
       "285802                   Hamilton Hills  (39.3704700000, -76.5670500000)   \n",
       "285803                           Canton  (39.2804600000, -76.5727300000)   \n",
       "285804                   Evergreen Lawn  (39.2954200000, -76.6592800000)   \n",
       "285805  Penrose/Fayette Street Outreach  (39.2899900000, -76.6470700000)   \n",
       "285806                            Upton  (39.2981200000, -76.6339100000)   \n",
       "\n",
       "        Total Incidents  \n",
       "0                     1  \n",
       "1                     1  \n",
       "2                     1  \n",
       "3                     1  \n",
       "4                     1  \n",
       "...                 ...  \n",
       "285802                1  \n",
       "285803                1  \n",
       "285804                1  \n",
       "285805                1  \n",
       "285806                1  \n",
       "\n",
       "[285807 rows x 12 columns]"
      ]
     },
     "execution_count": 7,
     "metadata": {},
     "output_type": "execute_result"
    }
   ],
   "source": [
    "df"
   ]
  },
  {
   "cell_type": "code",
   "execution_count": 8,
   "metadata": {},
   "outputs": [],
   "source": [
    "df.fillna('NOT REGISTERED',inplace=True)"
   ]
  },
  {
   "cell_type": "code",
   "execution_count": 9,
   "metadata": {},
   "outputs": [],
   "source": [
    "df['CrimeDate'] = pd.to_datetime(df['CrimeDate'])"
   ]
  },
  {
   "cell_type": "code",
   "execution_count": 10,
   "metadata": {},
   "outputs": [],
   "source": [
    "df['District'] = df['District'].str.upper()"
   ]
  },
  {
   "cell_type": "markdown",
   "metadata": {},
   "source": [
    "#### NORTHESTERN & SOUTHESTERN are re-written as NORTHEASTERN & SOUTHEASTERN based on the POST number"
   ]
  },
  {
   "cell_type": "code",
   "execution_count": 11,
   "metadata": {
    "scrolled": true
   },
   "outputs": [],
   "source": [
    "df['District'] = df['District'].replace('NORTHESTERN','NORTHEASTERN',regex=True)"
   ]
  },
  {
   "cell_type": "code",
   "execution_count": 12,
   "metadata": {},
   "outputs": [],
   "source": [
    "df['District'] = df['District'].replace('SOUTHESTERN','SOUTHEASTERN',regex=True)"
   ]
  },
  {
   "cell_type": "code",
   "execution_count": 13,
   "metadata": {
    "scrolled": true
   },
   "outputs": [
    {
     "data": {
      "text/plain": [
       "NORTHEASTERN      45112\n",
       "SOUTHEASTERN      39450\n",
       "CENTRAL           33784\n",
       "SOUTHERN          33031\n",
       "NORTHERN          32005\n",
       "NORTHWESTERN      28690\n",
       "SOUTHWESTERN      26242\n",
       "EASTERN           24168\n",
       "WESTERN           23266\n",
       "NOT REGISTERED       58\n",
       "GAY STREET            1\n",
       "Name: District, dtype: int64"
      ]
     },
     "execution_count": 13,
     "metadata": {},
     "output_type": "execute_result"
    }
   ],
   "source": [
    "df['District'].value_counts()"
   ]
  },
  {
   "cell_type": "markdown",
   "metadata": {},
   "source": [
    "## MOST RECENT 6-MONTHS DATA"
   ]
  },
  {
   "cell_type": "markdown",
   "metadata": {},
   "source": [
    "Focusing on the last 6 months of 2016 so as to be able to find the latest location and time of crimes being done"
   ]
  },
  {
   "cell_type": "code",
   "execution_count": 14,
   "metadata": {
    "scrolled": true
   },
   "outputs": [
    {
     "data": {
      "text/html": [
       "<div>\n",
       "<style scoped>\n",
       "    .dataframe tbody tr th:only-of-type {\n",
       "        vertical-align: middle;\n",
       "    }\n",
       "\n",
       "    .dataframe tbody tr th {\n",
       "        vertical-align: top;\n",
       "    }\n",
       "\n",
       "    .dataframe thead th {\n",
       "        text-align: right;\n",
       "    }\n",
       "</style>\n",
       "<table border=\"1\" class=\"dataframe\">\n",
       "  <thead>\n",
       "    <tr style=\"text-align: right;\">\n",
       "      <th></th>\n",
       "      <th>CrimeDate</th>\n",
       "      <th>CrimeTime</th>\n",
       "      <th>CrimeCode</th>\n",
       "      <th>Location</th>\n",
       "      <th>Description</th>\n",
       "      <th>Inside/Outside</th>\n",
       "      <th>Weapon</th>\n",
       "      <th>Post</th>\n",
       "      <th>District</th>\n",
       "      <th>Neighborhood</th>\n",
       "      <th>Location 1</th>\n",
       "      <th>Total Incidents</th>\n",
       "    </tr>\n",
       "  </thead>\n",
       "  <tbody>\n",
       "    <tr>\n",
       "      <th>0</th>\n",
       "      <td>2016-11-12</td>\n",
       "      <td>02:35:00</td>\n",
       "      <td>3B</td>\n",
       "      <td>300 SAINT PAUL PL</td>\n",
       "      <td>ROBBERY - STREET</td>\n",
       "      <td>O</td>\n",
       "      <td>NOT REGISTERED</td>\n",
       "      <td>111</td>\n",
       "      <td>CENTRAL</td>\n",
       "      <td>Downtown</td>\n",
       "      <td>(39.2924100000, -76.6140800000)</td>\n",
       "      <td>1</td>\n",
       "    </tr>\n",
       "    <tr>\n",
       "      <th>1</th>\n",
       "      <td>2016-11-12</td>\n",
       "      <td>02:56:00</td>\n",
       "      <td>3CF</td>\n",
       "      <td>800 S BROADWAY</td>\n",
       "      <td>ROBBERY - COMMERCIAL</td>\n",
       "      <td>I</td>\n",
       "      <td>FIREARM</td>\n",
       "      <td>213</td>\n",
       "      <td>SOUTHEASTERN</td>\n",
       "      <td>Fells Point</td>\n",
       "      <td>(39.2824200000, -76.5928800000)</td>\n",
       "      <td>1</td>\n",
       "    </tr>\n",
       "    <tr>\n",
       "      <th>2</th>\n",
       "      <td>2016-11-12</td>\n",
       "      <td>03:00:00</td>\n",
       "      <td>6D</td>\n",
       "      <td>1500 PENTWOOD RD</td>\n",
       "      <td>LARCENY FROM AUTO</td>\n",
       "      <td>O</td>\n",
       "      <td>NOT REGISTERED</td>\n",
       "      <td>413</td>\n",
       "      <td>NORTHEASTERN</td>\n",
       "      <td>Stonewood-Pentwood-Winston</td>\n",
       "      <td>(39.3480500000, -76.5883400000)</td>\n",
       "      <td>1</td>\n",
       "    </tr>\n",
       "    <tr>\n",
       "      <th>3</th>\n",
       "      <td>2016-11-12</td>\n",
       "      <td>03:00:00</td>\n",
       "      <td>6D</td>\n",
       "      <td>6600 MILTON LN</td>\n",
       "      <td>LARCENY FROM AUTO</td>\n",
       "      <td>O</td>\n",
       "      <td>NOT REGISTERED</td>\n",
       "      <td>424</td>\n",
       "      <td>NORTHEASTERN</td>\n",
       "      <td>Westfield</td>\n",
       "      <td>(39.3626300000, -76.5516100000)</td>\n",
       "      <td>1</td>\n",
       "    </tr>\n",
       "    <tr>\n",
       "      <th>4</th>\n",
       "      <td>2016-11-12</td>\n",
       "      <td>03:00:00</td>\n",
       "      <td>6E</td>\n",
       "      <td>300 W BALTIMORE ST</td>\n",
       "      <td>LARCENY</td>\n",
       "      <td>O</td>\n",
       "      <td>NOT REGISTERED</td>\n",
       "      <td>111</td>\n",
       "      <td>CENTRAL</td>\n",
       "      <td>Downtown</td>\n",
       "      <td>(39.2893800000, -76.6197100000)</td>\n",
       "      <td>1</td>\n",
       "    </tr>\n",
       "    <tr>\n",
       "      <th>...</th>\n",
       "      <td>...</td>\n",
       "      <td>...</td>\n",
       "      <td>...</td>\n",
       "      <td>...</td>\n",
       "      <td>...</td>\n",
       "      <td>...</td>\n",
       "      <td>...</td>\n",
       "      <td>...</td>\n",
       "      <td>...</td>\n",
       "      <td>...</td>\n",
       "      <td>...</td>\n",
       "      <td>...</td>\n",
       "    </tr>\n",
       "    <tr>\n",
       "      <th>23341</th>\n",
       "      <td>2016-06-01</td>\n",
       "      <td>21:30:00</td>\n",
       "      <td>3AF</td>\n",
       "      <td>1300 MADISON AVE</td>\n",
       "      <td>ROBBERY - STREET</td>\n",
       "      <td>O</td>\n",
       "      <td>FIREARM</td>\n",
       "      <td>132</td>\n",
       "      <td>CENTRAL</td>\n",
       "      <td>Madison Park</td>\n",
       "      <td>(39.3032300000, -76.6272000000)</td>\n",
       "      <td>1</td>\n",
       "    </tr>\n",
       "    <tr>\n",
       "      <th>23342</th>\n",
       "      <td>2016-06-01</td>\n",
       "      <td>22:00:00</td>\n",
       "      <td>6D</td>\n",
       "      <td>400 S BOND ST</td>\n",
       "      <td>LARCENY FROM AUTO</td>\n",
       "      <td>O</td>\n",
       "      <td>NOT REGISTERED</td>\n",
       "      <td>213</td>\n",
       "      <td>SOUTHEASTERN</td>\n",
       "      <td>Fells Point</td>\n",
       "      <td>(39.2863600000, -76.5954500000)</td>\n",
       "      <td>1</td>\n",
       "    </tr>\n",
       "    <tr>\n",
       "      <th>23343</th>\n",
       "      <td>2016-06-01</td>\n",
       "      <td>22:20:00</td>\n",
       "      <td>4E</td>\n",
       "      <td>1500 GUILFORD AVE</td>\n",
       "      <td>COMMON ASSAULT</td>\n",
       "      <td>O</td>\n",
       "      <td>HANDS</td>\n",
       "      <td>311</td>\n",
       "      <td>CENTRAL</td>\n",
       "      <td>Greenmount West</td>\n",
       "      <td>(39.3069500000, -76.6121100000)</td>\n",
       "      <td>1</td>\n",
       "    </tr>\n",
       "    <tr>\n",
       "      <th>23344</th>\n",
       "      <td>2016-06-01</td>\n",
       "      <td>23:00:00</td>\n",
       "      <td>7A</td>\n",
       "      <td>800 LEMMON ST</td>\n",
       "      <td>AUTO THEFT</td>\n",
       "      <td>O</td>\n",
       "      <td>NOT REGISTERED</td>\n",
       "      <td>931</td>\n",
       "      <td>SOUTHERN</td>\n",
       "      <td>Hollins Market</td>\n",
       "      <td>(39.2864200000, -76.6300100000)</td>\n",
       "      <td>1</td>\n",
       "    </tr>\n",
       "    <tr>\n",
       "      <th>23345</th>\n",
       "      <td>2016-06-01</td>\n",
       "      <td>23:48:00</td>\n",
       "      <td>4C</td>\n",
       "      <td>3800 3RD ST</td>\n",
       "      <td>AGG. ASSAULT</td>\n",
       "      <td>O</td>\n",
       "      <td>OTHER</td>\n",
       "      <td>913</td>\n",
       "      <td>SOUTHERN</td>\n",
       "      <td>Brooklyn</td>\n",
       "      <td>(39.2350900000, -76.6084300000)</td>\n",
       "      <td>1</td>\n",
       "    </tr>\n",
       "  </tbody>\n",
       "</table>\n",
       "<p>23342 rows × 12 columns</p>\n",
       "</div>"
      ],
      "text/plain": [
       "       CrimeDate CrimeTime CrimeCode            Location  \\\n",
       "0     2016-11-12  02:35:00        3B   300 SAINT PAUL PL   \n",
       "1     2016-11-12  02:56:00       3CF      800 S BROADWAY   \n",
       "2     2016-11-12  03:00:00        6D    1500 PENTWOOD RD   \n",
       "3     2016-11-12  03:00:00        6D      6600 MILTON LN   \n",
       "4     2016-11-12  03:00:00        6E  300 W BALTIMORE ST   \n",
       "...          ...       ...       ...                 ...   \n",
       "23341 2016-06-01  21:30:00       3AF    1300 MADISON AVE   \n",
       "23342 2016-06-01  22:00:00        6D       400 S BOND ST   \n",
       "23343 2016-06-01  22:20:00        4E   1500 GUILFORD AVE   \n",
       "23344 2016-06-01  23:00:00        7A       800 LEMMON ST   \n",
       "23345 2016-06-01  23:48:00        4C         3800 3RD ST   \n",
       "\n",
       "                Description Inside/Outside          Weapon Post      District  \\\n",
       "0          ROBBERY - STREET              O  NOT REGISTERED  111       CENTRAL   \n",
       "1      ROBBERY - COMMERCIAL              I         FIREARM  213  SOUTHEASTERN   \n",
       "2         LARCENY FROM AUTO              O  NOT REGISTERED  413  NORTHEASTERN   \n",
       "3         LARCENY FROM AUTO              O  NOT REGISTERED  424  NORTHEASTERN   \n",
       "4                   LARCENY              O  NOT REGISTERED  111       CENTRAL   \n",
       "...                     ...            ...             ...  ...           ...   \n",
       "23341      ROBBERY - STREET              O         FIREARM  132       CENTRAL   \n",
       "23342     LARCENY FROM AUTO              O  NOT REGISTERED  213  SOUTHEASTERN   \n",
       "23343        COMMON ASSAULT              O           HANDS  311       CENTRAL   \n",
       "23344            AUTO THEFT              O  NOT REGISTERED  931      SOUTHERN   \n",
       "23345          AGG. ASSAULT              O           OTHER  913      SOUTHERN   \n",
       "\n",
       "                     Neighborhood                       Location 1  \\\n",
       "0                        Downtown  (39.2924100000, -76.6140800000)   \n",
       "1                     Fells Point  (39.2824200000, -76.5928800000)   \n",
       "2      Stonewood-Pentwood-Winston  (39.3480500000, -76.5883400000)   \n",
       "3                       Westfield  (39.3626300000, -76.5516100000)   \n",
       "4                        Downtown  (39.2893800000, -76.6197100000)   \n",
       "...                           ...                              ...   \n",
       "23341                Madison Park  (39.3032300000, -76.6272000000)   \n",
       "23342                 Fells Point  (39.2863600000, -76.5954500000)   \n",
       "23343             Greenmount West  (39.3069500000, -76.6121100000)   \n",
       "23344              Hollins Market  (39.2864200000, -76.6300100000)   \n",
       "23345                    Brooklyn  (39.2350900000, -76.6084300000)   \n",
       "\n",
       "       Total Incidents  \n",
       "0                    1  \n",
       "1                    1  \n",
       "2                    1  \n",
       "3                    1  \n",
       "4                    1  \n",
       "...                ...  \n",
       "23341                1  \n",
       "23342                1  \n",
       "23343                1  \n",
       "23344                1  \n",
       "23345                1  \n",
       "\n",
       "[23342 rows x 12 columns]"
      ]
     },
     "execution_count": 14,
     "metadata": {},
     "output_type": "execute_result"
    }
   ],
   "source": [
    "last_6_months = ((df['CrimeDate'] >= '2016-06-01') \n",
    "                 & (df['CrimeDate'] <= '2016-12-31'))\n",
    "last_6_months = df.loc[last_6_months]\n",
    "last_6_months"
   ]
  },
  {
   "cell_type": "markdown",
   "metadata": {},
   "source": [
    "### Number of firearms based on DISTRICT"
   ]
  },
  {
   "cell_type": "code",
   "execution_count": 15,
   "metadata": {
    "scrolled": true
   },
   "outputs": [
    {
     "data": {
      "text/plain": [
       "NORTHEASTERN      312\n",
       "SOUTHERN          295\n",
       "SOUTHWESTERN      288\n",
       "CENTRAL           269\n",
       "NORTHERN          247\n",
       "EASTERN           232\n",
       "WESTERN           229\n",
       "SOUTHEASTERN      226\n",
       "NORTHWESTERN      211\n",
       "NOT REGISTERED      1\n",
       "Name: District, dtype: int64"
      ]
     },
     "execution_count": 15,
     "metadata": {},
     "output_type": "execute_result"
    }
   ],
   "source": [
    "last_6_months.loc[last_6_months['Weapon']=='FIREARM']['District'].value_counts()"
   ]
  },
  {
   "cell_type": "markdown",
   "metadata": {},
   "source": [
    "### Number of crimes in each DISTRICT"
   ]
  },
  {
   "cell_type": "code",
   "execution_count": 16,
   "metadata": {
    "scrolled": true
   },
   "outputs": [
    {
     "data": {
      "text/plain": [
       "NORTHEASTERN      3172\n",
       "SOUTHEASTERN      3087\n",
       "SOUTHERN          3027\n",
       "CENTRAL           2866\n",
       "NORTHERN          2547\n",
       "NORTHWESTERN      2336\n",
       "SOUTHWESTERN      2305\n",
       "EASTERN           2022\n",
       "WESTERN           1972\n",
       "NOT REGISTERED       7\n",
       "GAY STREET           1\n",
       "Name: District, dtype: int64"
      ]
     },
     "execution_count": 16,
     "metadata": {},
     "output_type": "execute_result"
    }
   ],
   "source": [
    "last_6_months['District'].value_counts()"
   ]
  },
  {
   "cell_type": "markdown",
   "metadata": {},
   "source": [
    "### Percentage of crime being done in CENTRAL DISTRICT"
   ]
  },
  {
   "cell_type": "code",
   "execution_count": 17,
   "metadata": {},
   "outputs": [
    {
     "data": {
      "text/plain": [
       "13.589238282923485"
      ]
     },
     "execution_count": 17,
     "metadata": {},
     "output_type": "execute_result"
    }
   ],
   "source": [
    "(3172/last_6_months['District'].value_counts().sum())*100"
   ]
  },
  {
   "cell_type": "markdown",
   "metadata": {},
   "source": [
    "### Percentage of crime being done in CENTRAL DISTRICT"
   ]
  },
  {
   "cell_type": "code",
   "execution_count": 18,
   "metadata": {},
   "outputs": [
    {
     "data": {
      "text/plain": [
       "12.278296632679291"
      ]
     },
     "execution_count": 18,
     "metadata": {},
     "output_type": "execute_result"
    }
   ],
   "source": [
    "(2866/last_6_months['District'].value_counts().sum())*100"
   ]
  },
  {
   "cell_type": "markdown",
   "metadata": {},
   "source": [
    "### Type of crime done in the last 6 months"
   ]
  },
  {
   "cell_type": "code",
   "execution_count": 19,
   "metadata": {},
   "outputs": [
    {
     "data": {
      "text/plain": [
       "LARCENY                 4600\n",
       "BURGLARY                3583\n",
       "COMMON ASSAULT          3506\n",
       "LARCENY FROM AUTO       3007\n",
       "AUTO THEFT              2510\n",
       "AGG. ASSAULT            2409\n",
       "ROBBERY - STREET        1860\n",
       "ROBBERY - COMMERCIAL     371\n",
       "SHOOTING                 340\n",
       "ASSAULT BY THREAT        320\n",
       "ROBBERY - RESIDENCE      239\n",
       "ROBBERY - CARJACKING     192\n",
       "HOMICIDE                 158\n",
       "RAPE                     125\n",
       "ARSON                    122\n",
       "Name: Description, dtype: int64"
      ]
     },
     "execution_count": 19,
     "metadata": {},
     "output_type": "execute_result"
    }
   ],
   "source": [
    "last_6_months['Description'].value_counts()"
   ]
  },
  {
   "cell_type": "markdown",
   "metadata": {},
   "source": [
    "### Taking first 2 element of the string and put them into a new column as the 'Hour' column"
   ]
  },
  {
   "cell_type": "code",
   "execution_count": 20,
   "metadata": {},
   "outputs": [
    {
     "name": "stderr",
     "output_type": "stream",
     "text": [
      "/opt/anaconda3/lib/python3.7/site-packages/ipykernel_launcher.py:1: SettingWithCopyWarning: \n",
      "A value is trying to be set on a copy of a slice from a DataFrame.\n",
      "Try using .loc[row_indexer,col_indexer] = value instead\n",
      "\n",
      "See the caveats in the documentation: https://pandas.pydata.org/pandas-docs/stable/user_guide/indexing.html#returning-a-view-versus-a-copy\n",
      "  \"\"\"Entry point for launching an IPython kernel.\n",
      "/opt/anaconda3/lib/python3.7/site-packages/ipykernel_launcher.py:2: SettingWithCopyWarning: \n",
      "A value is trying to be set on a copy of a slice from a DataFrame.\n",
      "Try using .loc[row_indexer,col_indexer] = value instead\n",
      "\n",
      "See the caveats in the documentation: https://pandas.pydata.org/pandas-docs/stable/user_guide/indexing.html#returning-a-view-versus-a-copy\n",
      "  \n"
     ]
    }
   ],
   "source": [
    "last_6_months['Hour'] = last_6_months['CrimeTime'].str[0:2]\n",
    "last_6_months['Hour'] = last_6_months['Hour'].astype('int32')"
   ]
  },
  {
   "cell_type": "code",
   "execution_count": 21,
   "metadata": {
    "scrolled": true
   },
   "outputs": [
    {
     "data": {
      "text/html": [
       "<div>\n",
       "<style scoped>\n",
       "    .dataframe tbody tr th:only-of-type {\n",
       "        vertical-align: middle;\n",
       "    }\n",
       "\n",
       "    .dataframe tbody tr th {\n",
       "        vertical-align: top;\n",
       "    }\n",
       "\n",
       "    .dataframe thead th {\n",
       "        text-align: right;\n",
       "    }\n",
       "</style>\n",
       "<table border=\"1\" class=\"dataframe\">\n",
       "  <thead>\n",
       "    <tr style=\"text-align: right;\">\n",
       "      <th></th>\n",
       "      <th>CrimeDate</th>\n",
       "      <th>CrimeTime</th>\n",
       "      <th>CrimeCode</th>\n",
       "      <th>Location</th>\n",
       "      <th>Description</th>\n",
       "      <th>Inside/Outside</th>\n",
       "      <th>Weapon</th>\n",
       "      <th>Post</th>\n",
       "      <th>District</th>\n",
       "      <th>Neighborhood</th>\n",
       "      <th>Location 1</th>\n",
       "      <th>Total Incidents</th>\n",
       "      <th>Hour</th>\n",
       "    </tr>\n",
       "  </thead>\n",
       "  <tbody>\n",
       "    <tr>\n",
       "      <th>0</th>\n",
       "      <td>2016-11-12</td>\n",
       "      <td>02:35:00</td>\n",
       "      <td>3B</td>\n",
       "      <td>300 SAINT PAUL PL</td>\n",
       "      <td>ROBBERY - STREET</td>\n",
       "      <td>O</td>\n",
       "      <td>NOT REGISTERED</td>\n",
       "      <td>111</td>\n",
       "      <td>CENTRAL</td>\n",
       "      <td>Downtown</td>\n",
       "      <td>(39.2924100000, -76.6140800000)</td>\n",
       "      <td>1</td>\n",
       "      <td>2</td>\n",
       "    </tr>\n",
       "    <tr>\n",
       "      <th>1</th>\n",
       "      <td>2016-11-12</td>\n",
       "      <td>02:56:00</td>\n",
       "      <td>3CF</td>\n",
       "      <td>800 S BROADWAY</td>\n",
       "      <td>ROBBERY - COMMERCIAL</td>\n",
       "      <td>I</td>\n",
       "      <td>FIREARM</td>\n",
       "      <td>213</td>\n",
       "      <td>SOUTHEASTERN</td>\n",
       "      <td>Fells Point</td>\n",
       "      <td>(39.2824200000, -76.5928800000)</td>\n",
       "      <td>1</td>\n",
       "      <td>2</td>\n",
       "    </tr>\n",
       "    <tr>\n",
       "      <th>2</th>\n",
       "      <td>2016-11-12</td>\n",
       "      <td>03:00:00</td>\n",
       "      <td>6D</td>\n",
       "      <td>1500 PENTWOOD RD</td>\n",
       "      <td>LARCENY FROM AUTO</td>\n",
       "      <td>O</td>\n",
       "      <td>NOT REGISTERED</td>\n",
       "      <td>413</td>\n",
       "      <td>NORTHEASTERN</td>\n",
       "      <td>Stonewood-Pentwood-Winston</td>\n",
       "      <td>(39.3480500000, -76.5883400000)</td>\n",
       "      <td>1</td>\n",
       "      <td>3</td>\n",
       "    </tr>\n",
       "    <tr>\n",
       "      <th>3</th>\n",
       "      <td>2016-11-12</td>\n",
       "      <td>03:00:00</td>\n",
       "      <td>6D</td>\n",
       "      <td>6600 MILTON LN</td>\n",
       "      <td>LARCENY FROM AUTO</td>\n",
       "      <td>O</td>\n",
       "      <td>NOT REGISTERED</td>\n",
       "      <td>424</td>\n",
       "      <td>NORTHEASTERN</td>\n",
       "      <td>Westfield</td>\n",
       "      <td>(39.3626300000, -76.5516100000)</td>\n",
       "      <td>1</td>\n",
       "      <td>3</td>\n",
       "    </tr>\n",
       "    <tr>\n",
       "      <th>4</th>\n",
       "      <td>2016-11-12</td>\n",
       "      <td>03:00:00</td>\n",
       "      <td>6E</td>\n",
       "      <td>300 W BALTIMORE ST</td>\n",
       "      <td>LARCENY</td>\n",
       "      <td>O</td>\n",
       "      <td>NOT REGISTERED</td>\n",
       "      <td>111</td>\n",
       "      <td>CENTRAL</td>\n",
       "      <td>Downtown</td>\n",
       "      <td>(39.2893800000, -76.6197100000)</td>\n",
       "      <td>1</td>\n",
       "      <td>3</td>\n",
       "    </tr>\n",
       "  </tbody>\n",
       "</table>\n",
       "</div>"
      ],
      "text/plain": [
       "   CrimeDate CrimeTime CrimeCode            Location           Description  \\\n",
       "0 2016-11-12  02:35:00        3B   300 SAINT PAUL PL      ROBBERY - STREET   \n",
       "1 2016-11-12  02:56:00       3CF      800 S BROADWAY  ROBBERY - COMMERCIAL   \n",
       "2 2016-11-12  03:00:00        6D    1500 PENTWOOD RD     LARCENY FROM AUTO   \n",
       "3 2016-11-12  03:00:00        6D      6600 MILTON LN     LARCENY FROM AUTO   \n",
       "4 2016-11-12  03:00:00        6E  300 W BALTIMORE ST               LARCENY   \n",
       "\n",
       "  Inside/Outside          Weapon Post      District  \\\n",
       "0              O  NOT REGISTERED  111       CENTRAL   \n",
       "1              I         FIREARM  213  SOUTHEASTERN   \n",
       "2              O  NOT REGISTERED  413  NORTHEASTERN   \n",
       "3              O  NOT REGISTERED  424  NORTHEASTERN   \n",
       "4              O  NOT REGISTERED  111       CENTRAL   \n",
       "\n",
       "                 Neighborhood                       Location 1  \\\n",
       "0                    Downtown  (39.2924100000, -76.6140800000)   \n",
       "1                 Fells Point  (39.2824200000, -76.5928800000)   \n",
       "2  Stonewood-Pentwood-Winston  (39.3480500000, -76.5883400000)   \n",
       "3                   Westfield  (39.3626300000, -76.5516100000)   \n",
       "4                    Downtown  (39.2893800000, -76.6197100000)   \n",
       "\n",
       "   Total Incidents  Hour  \n",
       "0                1     2  \n",
       "1                1     2  \n",
       "2                1     3  \n",
       "3                1     3  \n",
       "4                1     3  "
      ]
     },
     "execution_count": 21,
     "metadata": {},
     "output_type": "execute_result"
    }
   ],
   "source": [
    "last_6_months.head()"
   ]
  },
  {
   "cell_type": "markdown",
   "metadata": {},
   "source": [
    "### Graph of no. of incidents happened at each hour"
   ]
  },
  {
   "cell_type": "code",
   "execution_count": 22,
   "metadata": {},
   "outputs": [
    {
     "data": {
      "text/plain": [
       "<matplotlib.axes._subplots.AxesSubplot at 0x122628550>"
      ]
     },
     "execution_count": 22,
     "metadata": {},
     "output_type": "execute_result"
    },
    {
     "data": {
      "image/png": "[encoded data removed]",
      "text/plain": [
       "<Figure size 432x288 with 1 Axes>"
      ]
     },
     "metadata": {
      "needs_background": "light"
     },
     "output_type": "display_data"
    }
   ],
   "source": [
    "last_6_months.groupby(['Hour']).sum().plot(kind='bar')"
   ]
  },
  {
   "cell_type": "markdown",
   "metadata": {},
   "source": [
    "Crimes usually happen during the day and the number increases as it goes into the night time. The peak is at 17:00 hour where most crime would happen."
   ]
  },
  {
   "cell_type": "markdown",
   "metadata": {},
   "source": [
    "### Graph of no. of incidents happened at each hour in NORTHEASTERN"
   ]
  },
  {
   "cell_type": "code",
   "execution_count": 23,
   "metadata": {},
   "outputs": [
    {
     "data": {
      "text/plain": [
       "<matplotlib.axes._subplots.AxesSubplot at 0x11f2c6110>"
      ]
     },
     "execution_count": 23,
     "metadata": {},
     "output_type": "execute_result"
    },
    {
     "data": {
      "image/png": "[encoded data removed]",
      "text/plain": [
       "<Figure size 432x288 with 1 Axes>"
      ]
     },
     "metadata": {
      "needs_background": "light"
     },
     "output_type": "display_data"
    }
   ],
   "source": [
    "last_6_months.loc[last_6_months['District']=='NORTHEASTERN'].groupby(['Hour']).sum().plot(kind='bar')"
   ]
  },
  {
   "cell_type": "markdown",
   "metadata": {},
   "source": [
    "# Summary"
   ]
  },
  {
   "cell_type": "markdown",
   "metadata": {},
   "source": [
    "Firstly, in this data analysis, I focus on the latest 6-months data so as to predict location and time of crime that might happen as per usual. Based on the last 6-months data, I found that the DISTRICT with the most number of crime is in NORTHEASTERN (Over 13.59% of the total crime done during the last 6 months). Police can stand-by on the DISTRICT and do a patrol around the DISTRICT from afternoon (14:00 hours) to midnight (00:00 hours) as these timings are the most vulnerable time for a crime to happen.\n",
    "\n",
    "Police or patrols that are on duty should be equipped with proper equipment or self-defense equipment as NORTHEASTERN held the highest number of firearms being used during crime. Other than that, as the most often type of crime done is LARCENY (4600 cases), then police could install cameras around these DISTRICT so as to catch these criminals."
   ]
  },
  {
   "cell_type": "code",
   "execution_count": 24,
   "metadata": {},
   "outputs": [],
   "source": [
    "last_6_months.to_csv(r'./newdata.csv', index = False)"
   ]
  },
  {
   "cell_type": "code",
   "execution_count": null,
   "metadata": {},
   "outputs": [],
   "source": []
  }
 ],
 "metadata": {
  "kernelspec": {
   "display_name": "Python 3",
   "language": "python",
   "name": "python3"
  },
  "language_info": {
   "codemirror_mode": {
    "name": "ipython",
    "version": 3
   },
   "file_extension": ".py",
   "mimetype": "text/x-python",
   "name": "python",
   "nbconvert_exporter": "python",
   "pygments_lexer": "ipython3",
   "version": "3.7.6"
  }
 },
 "nbformat": 4,
 "nbformat_minor": 4
}
